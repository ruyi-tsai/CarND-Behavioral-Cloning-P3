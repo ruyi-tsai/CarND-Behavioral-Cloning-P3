{
 "cells": [
  {
   "cell_type": "code",
   "execution_count": 9,
   "metadata": {},
   "outputs": [],
   "source": [
    "import csv\n",
    "import cv2\n",
    "import numpy as np"
   ]
  },
  {
   "cell_type": "code",
   "execution_count": 17,
   "metadata": {},
   "outputs": [],
   "source": [
    "lines = []\n",
    "with open('data/driving_log.csv') as csvfile:\n",
    "    reader = csv.reader(csvfile)\n",
    "    i = 0\n",
    "    for line in reader:\n",
    "        if (i>0):\n",
    "            lines.append(line)\n",
    "        i=1\n",
    "        "
   ]
  },
  {
   "cell_type": "code",
   "execution_count": 20,
   "metadata": {},
   "outputs": [],
   "source": [
    "images = []\n",
    "measurements = []\n",
    "for line in lines:\n",
    "    source_path = line[0]\n",
    "    filename = source_path.split('/')[-1]\n",
    "    current_path = 'data/IMG/'+filename\n",
    "    image = cv2.imread(current_path)\n",
    "    images.append(image)\n",
    "    measurement = float(line[3])\n",
    "    measurements.append(measurement)"
   ]
  },
  {
   "cell_type": "code",
   "execution_count": 21,
   "metadata": {},
   "outputs": [],
   "source": [
    "X_train = np.array(images)\n",
    "Y_train = np.array(measurements)"
   ]
  },
  {
   "cell_type": "code",
   "execution_count": 25,
   "metadata": {},
   "outputs": [
    {
     "name": "stdout",
     "output_type": "stream",
     "text": [
      "Epoch 1/7\n",
      "201/201 [==============================] - 3s 13ms/step - loss: 8396074.0000 - val_loss: 6723.3750\n",
      "Epoch 2/7\n",
      "201/201 [==============================] - 2s 12ms/step - loss: 4047.9260 - val_loss: 2815.4805\n",
      "Epoch 3/7\n",
      "201/201 [==============================] - 2s 12ms/step - loss: 2607.9106 - val_loss: 3150.1179\n",
      "Epoch 4/7\n",
      "201/201 [==============================] - 2s 12ms/step - loss: 2338.1335 - val_loss: 2199.1638\n",
      "Epoch 5/7\n",
      "201/201 [==============================] - 2s 12ms/step - loss: 1697.3760 - val_loss: 1854.0656\n",
      "Epoch 6/7\n",
      "201/201 [==============================] - 3s 12ms/step - loss: 1617.2097 - val_loss: 5688.7554\n",
      "Epoch 7/7\n",
      "201/201 [==============================] - 2s 12ms/step - loss: 1883.2917 - val_loss: 1425.7441\n"
     ]
    }
   ],
   "source": [
    "from keras.models import Sequential\n",
    "from keras.layers import Flatten, Dense\n",
    "from keras.optimizers import Adam\n",
    "\n",
    "model = Sequential()\n",
    "model.add(Flatten(input_shape=(160,320,3)))\n",
    "model.add(Dense(1))\n",
    "\n",
    "model.compile(loss='mse',optimizer='adam')\n",
    "model.fit(X_train,Y_train,validation_split=0.2,shuffle=True, epochs  = 7)\n",
    "\n",
    "model.save('model.h5')\n"
   ]
  },
  {
   "cell_type": "code",
   "execution_count": null,
   "metadata": {},
   "outputs": [],
   "source": []
  }
 ],
 "metadata": {
  "kernelspec": {
   "display_name": "Python 3",
   "language": "python",
   "name": "python3"
  },
  "language_info": {
   "codemirror_mode": {
    "name": "ipython",
    "version": 3
   },
   "file_extension": ".py",
   "mimetype": "text/x-python",
   "name": "python",
   "nbconvert_exporter": "python",
   "pygments_lexer": "ipython3",
   "version": "3.8.5"
  }
 },
 "nbformat": 4,
 "nbformat_minor": 4
}
